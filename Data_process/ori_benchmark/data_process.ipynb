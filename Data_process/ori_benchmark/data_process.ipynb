{
 "cells": [
  {
   "cell_type": "markdown",
   "metadata": {},
   "source": [
    "# 根据Entrez ID找出物种"
   ]
  },
  {
   "cell_type": "code",
   "execution_count": 11,
   "metadata": {},
   "outputs": [
    {
     "name": "stdout",
     "output_type": "stream",
     "text": [
      "9530036O11Rik 的物种名称是: Mus musculus\n"
     ]
    }
   ],
   "source": [
    "from Bio import Entrez\n",
    "\n",
    "def get_species_name(gene_symbol):\n",
    "    # 设置 NCBI Entrez 工具的 email，这是必需的\n",
    "    Entrez.email = \"1525477249@qq.com\"  # 替换成你自己的邮箱\n",
    "\n",
    "    try:\n",
    "        # 使用 Entrez.esearch 查询基因的 Entrez ID\n",
    "        handle = Entrez.esearch(db=\"gene\", term=gene_symbol)\n",
    "        record = Entrez.read(handle)\n",
    "        handle.close()\n",
    "\n",
    "        # 如果找到了基因记录，则获取其详细信息\n",
    "        if int(record[\"Count\"]) > 0:\n",
    "            gene_id = record[\"IdList\"][0]\n",
    "\n",
    "            # 使用 Entrez.efetch 查询基因信息\n",
    "            handle = Entrez.efetch(db=\"gene\", id=gene_id, retmode=\"xml\")\n",
    "            record = Entrez.read(handle)\n",
    "            handle.close()\n",
    "\n",
    "            # 从结果中提取物种名称\n",
    "            species_name = record[0]['Entrezgene_source']['BioSource']['BioSource_org']['Org-ref']['Org-ref_taxname']\n",
    "            return species_name\n",
    "        else:\n",
    "            print(f\"未找到基因 {gene_symbol} 的记录。\")\n",
    "            return \"error\"\n",
    "    except Exception as e:\n",
    "        print(f\"获取{gene_symbol}物种名称时出错:\", str(e))\n",
    "        return \"error\"\n",
    "\n",
    "# 用法示例\n",
    "gene_symbol = \"9530036O11Rik\"\n",
    "species_name = get_species_name(gene_symbol)\n",
    "if species_name:\n",
    "    print(f\"{gene_symbol} 的物种名称是: {species_name}\")\n",
    "else:\n",
    "    print(f\"无法获取 {gene_symbol} 的物种名称。\")\n"
   ]
  },
  {
   "cell_type": "markdown",
   "metadata": {},
   "source": [
    "# 下载原始数据获取speceies"
   ]
  },
  {
   "cell_type": "code",
   "execution_count": 24,
   "metadata": {},
   "outputs": [],
   "source": [
    "import os\n",
    "import csv\n",
    "import pandas as pd\n",
    " \n",
    "df = pd.read_excel('./benchmark/RNALocate.xlsx', usecols=['Gene_Name', 'Organism','Subcellular_Localization'])\n",
    "\n",
    "\n",
    "with open('./benchmark/benchmark.csv', mode='w', newline='', encoding='utf-8') as file:\n",
    "    writer = csv.writer(file)\n",
    "    writer.writerow(['name','species', 'label','seq'])\n",
    "\n",
    "with open(\"./benchmark/data.txt\", mode='r', encoding='utf-8') as file:\n",
    "    species = None\n",
    "    name = None\n",
    "    seq = \"\"\n",
    "    label = None\n",
    "    match_condition = None\n",
    "    lines = file.readlines()    \n",
    "    for index, line in enumerate(lines):\n",
    "        name = line.strip().split()[0]\n",
    "        seq = line.strip().split()[1]\n",
    "        label = line.strip().split()[2]\n",
    "        match_condition = df.loc[(df['Gene_Name'] == name) & (df['Subcellular_Localization'] == label)]\n",
    "        assert not match_condition.empty, \"没有找到匹配的行\"\n",
    "        species = match_condition['Organism']\n",
    "        with open('./benchmark/benchmark.csv', mode='a', newline='', encoding='utf-8') as csv_file:\n",
    "            writer = csv.writer(csv_file)\n",
    "            writer.writerow([name, species.tolist()[0], label,seq])"
   ]
  }
 ],
 "metadata": {
  "kernelspec": {
   "display_name": "pgmg2",
   "language": "python",
   "name": "python3"
  },
  "language_info": {
   "codemirror_mode": {
    "name": "ipython",
    "version": 3
   },
   "file_extension": ".py",
   "mimetype": "text/x-python",
   "name": "python",
   "nbconvert_exporter": "python",
   "pygments_lexer": "ipython3",
   "version": "3.8.18"
  }
 },
 "nbformat": 4,
 "nbformat_minor": 2
}
