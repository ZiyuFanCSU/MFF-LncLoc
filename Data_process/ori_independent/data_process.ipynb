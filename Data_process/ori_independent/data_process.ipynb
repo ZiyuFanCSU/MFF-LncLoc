{
 "cells": [
  {
   "cell_type": "code",
   "execution_count": 2,
   "metadata": {},
   "outputs": [],
   "source": [
    "import os\n",
    "import csv\n",
    "\n",
    "with open('./independent_Li/independent_Li.csv', mode='w', newline='', encoding='utf-8') as file:\n",
    "    writer = csv.writer(file)\n",
    "    writer.writerow(['seq', 'species', 'label'])\n",
    "\n",
    "with open(\"./independent_Li/independent_dataset_LIMIN.txt\", mode='r', encoding='utf-8') as file:\n",
    "    species = None\n",
    "    seq = \"\"\n",
    "    label = None\n",
    "    for line in file:\n",
    "        if \">\" in line:\n",
    "            parts = line.strip().split('|')\n",
    "            species = parts[-3]\n",
    "            label = parts[-1]\n",
    "        else:\n",
    "            seq = line.strip()\n",
    "            if seq == \"\":\n",
    "                print(\"???\")\n",
    "            with open('./independent_Li/independent_Li.csv', mode='a', newline='', encoding='utf-8') as csv_file:\n",
    "                writer = csv.writer(csv_file)\n",
    "                writer.writerow([seq, species, label])"
   ]
  }
 ],
 "metadata": {
  "kernelspec": {
   "display_name": "pgmg2",
   "language": "python",
   "name": "python3"
  },
  "language_info": {
   "codemirror_mode": {
    "name": "ipython",
    "version": 3
   },
   "file_extension": ".py",
   "mimetype": "text/x-python",
   "name": "python",
   "nbconvert_exporter": "python",
   "pygments_lexer": "ipython3",
   "version": "3.8.18"
  }
 },
 "nbformat": 4,
 "nbformat_minor": 2
}
