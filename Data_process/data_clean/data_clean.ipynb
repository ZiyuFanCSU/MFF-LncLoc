{
 "cells": [
  {
   "cell_type": "markdown",
   "metadata": {},
   "source": [
    "# Data clean"
   ]
  },
  {
   "cell_type": "code",
   "execution_count": 2,
   "metadata": {},
   "outputs": [],
   "source": [
    "import pandas as pd\n",
    "\n",
    "df1 = pd.read_csv(\"./benchmark.csv\")\n",
    "df2 = pd.read_csv(\"./independent_Li.csv\")\n",
    "df3 = pd.read_csv(\"./independent_Fan.csv\")\n",
    "df4 = pd.read_csv(\"./v2_unique_diffv1.csv\")\n",
    "\n",
    "def check_duplicates(df):\n",
    "    duplicates = df[df[\"seq\"].duplicated()][\"seq\"]\n",
    "    if not duplicates.empty:\n",
    "        print(\"重复的序列：\")\n",
    "        print(len(duplicates))\n"
   ]
  },
  {
   "cell_type": "code",
   "execution_count": 6,
   "metadata": {},
   "outputs": [],
   "source": [
    "import pandas as pd\n",
    "df3 = pd.read_csv(\"./independent_Fan.csv\")\n",
    "df_unique = df3.drop_duplicates(subset=[\"seq\"])\n",
    "df_unique.to_csv(\"./independent_Fan.csv\", index=False)"
   ]
  },
  {
   "cell_type": "code",
   "execution_count": 7,
   "metadata": {},
   "outputs": [
    {
     "name": "stdout",
     "output_type": "stream",
     "text": [
      "包含非法字符的行：\n",
      "            name         species      label  \\\n",
      "11          Ks-1  Apis mellifera    Nucleus   \n",
      "320     AK047560    Mus musculus  Cytoplasm   \n",
      "339     AK078359    Mus musculus  Cytoplasm   \n",
      "369     AK089735    Mus musculus  Cytoplasm   \n",
      "402     AK140787    Mus musculus  Cytoplasm   \n",
      "412     AK142778    Mus musculus  Cytoplasm   \n",
      "415     AK143146    Mus musculus  Cytoplasm   \n",
      "426     AK157094    Mus musculus  Cytoplasm   \n",
      "436     AK191463    Mus musculus    Nucleus   \n",
      "437     AK212600    Mus musculus  Cytoplasm   \n",
      "438     AY178855    Mus musculus  Cytoplasm   \n",
      "462  1/2-sbsRNA1    Homo sapiens  Cytoplasm   \n",
      "\n",
      "                                                   seq  has_invalid_chars  \n",
      "11   GTCGAACGGCGCTGTGTTGCGACGGGACCATGCCGCCGCGCCCTGC...               True  \n",
      "320  TAGTATGGTAGATTAGATACAGGGTGTGGGAAAAAAAAAAGTGCCA...               True  \n",
      "339  AAGATCATTTCAAGAATGTGTGGTCCTTCCAAAGGGAAGGTTTTTA...               True  \n",
      "369  GCTTACAATTTGAGTCTAAACTAAAAAGAAAAAAGTGAGATATGAA...               True  \n",
      "402  GCCCCTTTCCCTACTGAGTATTTGAATATTATTGGCTGCTGTTGTG...               True  \n",
      "412  TTAACAGAAGCAAAACCAACAGTGGGCAAGGATGTGGAGACTTCAT...               True  \n",
      "415  TTTCTGATCTACACAGCCCTGTTTGCAACTTGAACTTGACTCCCAT...               True  \n",
      "426  GATGGTTTAAAAAATATATAACAATTTTGCAATAGGTATAAAAATT...               True  \n",
      "436  CGGCCTTCACCAGGGAGAATGGCAOGGGGTCCCTTGGGTGCCCATT...               True  \n",
      "437  CGGACTGTTTTCGCAGAGTCACAGACACCATTTATTACTGAACTGC...               True  \n",
      "438  ACCATTTTCATAGAATCATTATGATGATTAACTAAATTGTGGATAA...               True  \n",
      "462  CAGGAGAGACAGOCOCACOCOGOOGCCCAGGCOGGAAOACAGOGGO...               True  \n",
      "没有非法字符\n",
      "包含非法字符的行：\n",
      "                                                 seq       species      label  \\\n",
      "0  CAGGAGAGACAGUCUCACUCUGUUGCCCAGGCUGGAAUACAGUGGU...  Homo sapiens  Cytoplasm   \n",
      "\n",
      "   has_invalid_chars  \n",
      "0               True  \n"
     ]
    }
   ],
   "source": [
    "import pandas as pd\n",
    "import re\n",
    "\n",
    "def check_invalid_chars(seq):\n",
    "    pattern = re.compile(\"[^ATCG]\")\n",
    "    invalid_chars = pattern.findall(seq)\n",
    "    return invalid_chars\n",
    "\n",
    "for df in [df1,df2,df3]:\n",
    "    df[\"has_invalid_chars\"] = df[\"seq\"].apply(lambda x: bool(check_invalid_chars(x)))\n",
    "    invalid_seqs = df[df[\"has_invalid_chars\"]]\n",
    "    if invalid_seqs.empty:\n",
    "        print(\"没有非法字符\")\n",
    "    else:\n",
    "        print(\"包含非法字符的行：\")\n",
    "        print(invalid_seqs)\n"
   ]
  },
  {
   "cell_type": "code",
   "execution_count": 8,
   "metadata": {},
   "outputs": [],
   "source": [
    "import pandas as pd\n",
    "import re\n",
    "\n",
    "df1 = pd.read_csv(\"./benchmark.csv\")\n",
    "\n",
    "def check_invalid_chars(seq):\n",
    "    pattern = re.compile(\"[^ATCG]\")\n",
    "    invalid_chars = pattern.findall(seq)\n",
    "    return bool(invalid_chars)\n",
    "\n",
    "invalid_index = df1[\"seq\"].apply(check_invalid_chars)\n",
    "clean_df = df1[~invalid_index]\n",
    "clean_df.to_csv(\"./benchmark.csv\", index=False)"
   ]
  },
  {
   "cell_type": "code",
   "execution_count": 9,
   "metadata": {},
   "outputs": [],
   "source": [
    "import pandas as pd\n",
    "import re\n",
    "\n",
    "df3 = pd.read_csv(\"./independent_Fan.csv\")\n",
    "\n",
    "def check_invalid_chars(seq):\n",
    "    pattern = re.compile(\"[^ATCG]\")\n",
    "    invalid_chars = pattern.findall(seq)\n",
    "    return bool(invalid_chars)\n",
    "\n",
    "invalid_index = df3[\"seq\"].apply(check_invalid_chars)\n",
    "clean_df = df3[~invalid_index]\n",
    "clean_df.to_csv(\"./independent_Fan.csv\", index=False)"
   ]
  },
  {
   "cell_type": "code",
   "execution_count": 10,
   "metadata": {},
   "outputs": [
    {
     "name": "stdout",
     "output_type": "stream",
     "text": [
      "没有非法字符\n",
      "没有非法字符\n",
      "没有非法字符\n"
     ]
    }
   ],
   "source": [
    "import pandas as pd\n",
    "import re\n",
    "\n",
    "df1 = pd.read_csv(\"./benchmark.csv\")\n",
    "df2 = pd.read_csv(\"./independent_Li.csv\")\n",
    "df3 = pd.read_csv(\"./independent_Fan.csv\")\n",
    "\n",
    "def check_invalid_chars(seq):\n",
    "    pattern = re.compile(\"[^ATCG]\")\n",
    "    invalid_chars = pattern.findall(seq)\n",
    "    return invalid_chars\n",
    "\n",
    "for df in [df1,df2,df3]:\n",
    "    df[\"has_invalid_chars\"] = df[\"seq\"].apply(lambda x: bool(check_invalid_chars(x)))\n",
    "    invalid_seqs = df[df[\"has_invalid_chars\"]]\n",
    "    if invalid_seqs.empty:\n",
    "        print(\"没有非法字符\")\n",
    "    else:\n",
    "        print(\"包含非法字符的行：\")\n",
    "        print(invalid_seqs)\n"
   ]
  }
 ],
 "metadata": {
  "kernelspec": {
   "display_name": "pgmg2",
   "language": "python",
   "name": "python3"
  },
  "language_info": {
   "codemirror_mode": {
    "name": "ipython",
    "version": 3
   },
   "file_extension": ".py",
   "mimetype": "text/x-python",
   "name": "python",
   "nbconvert_exporter": "python",
   "pygments_lexer": "ipython3",
   "version": "3.8.18"
  }
 },
 "nbformat": 4,
 "nbformat_minor": 2
}
